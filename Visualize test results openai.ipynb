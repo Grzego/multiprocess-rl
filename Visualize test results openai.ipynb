{
 "cells": [
  {
   "cell_type": "code",
   "execution_count": 2,
   "metadata": {},
   "outputs": [
    {
     "name": "stdout",
     "output_type": "stream",
     "text": [
      "openaigym.episode_batch.0.6425.stats.json\r\n",
      "openaigym.manifest.0.6425.manifest.json\r\n",
      "openaigym.video.0.6425.video000000.meta.json\r\n",
      "openaigym.video.0.6425.video000000.mp4\r\n",
      "openaigym.video.0.6425.video000001.meta.json\r\n",
      "openaigym.video.0.6425.video000001.mp4\r\n",
      "openaigym.video.0.6425.video000002.meta.json\r\n",
      "openaigym.video.0.6425.video000002.mp4\r\n",
      "openaigym.video.0.6425.video000003.meta.json\r\n",
      "openaigym.video.0.6425.video000003.mp4\r\n",
      "openaigym.video.0.6425.video000004.meta.json\r\n",
      "openaigym.video.0.6425.video000004.mp4\r\n",
      "openaigym.video.0.6425.video000005.meta.json\r\n",
      "openaigym.video.0.6425.video000005.mp4\r\n",
      "openaigym.video.0.6425.video000006.meta.json\r\n",
      "openaigym.video.0.6425.video000006.mp4\r\n",
      "openaigym.video.0.6425.video000007.meta.json\r\n",
      "openaigym.video.0.6425.video000007.mp4\r\n",
      "openaigym.video.0.6425.video000008.meta.json\r\n",
      "openaigym.video.0.6425.video000008.mp4\r\n",
      "openaigym.video.0.6425.video000009.meta.json\r\n",
      "openaigym.video.0.6425.video000009.mp4\r\n",
      "openaigym.video.0.6425.video000010.meta.json\r\n",
      "openaigym.video.0.6425.video000010.mp4\r\n",
      "openaigym.video.0.6425.video000011.meta.json\r\n",
      "openaigym.video.0.6425.video000011.mp4\r\n",
      "openaigym.video.0.6425.video000012.meta.json\r\n",
      "openaigym.video.0.6425.video000012.mp4\r\n",
      "openaigym.video.0.6425.video000013.meta.json\r\n",
      "openaigym.video.0.6425.video000013.mp4\r\n",
      "openaigym.video.0.6425.video000014.meta.json\r\n",
      "openaigym.video.0.6425.video000014.mp4\r\n",
      "openaigym.video.0.6425.video000015.meta.json\r\n",
      "openaigym.video.0.6425.video000015.mp4\r\n",
      "openaigym.video.0.6425.video000016.meta.json\r\n",
      "openaigym.video.0.6425.video000016.mp4\r\n",
      "openaigym.video.0.6425.video000017.meta.json\r\n",
      "openaigym.video.0.6425.video000017.mp4\r\n",
      "openaigym.video.0.6425.video000018.meta.json\r\n",
      "openaigym.video.0.6425.video000018.mp4\r\n",
      "openaigym.video.0.6425.video000019.meta.json\r\n",
      "openaigym.video.0.6425.video000019.mp4\r\n"
     ]
    }
   ],
   "source": [
    "!ls breakout_training_eval_4250000"
   ]
  },
  {
   "cell_type": "code",
   "execution_count": 4,
   "metadata": {},
   "outputs": [
    {
     "name": "stdout",
     "output_type": "stream",
     "text": [
      "Collecting numpy\n",
      "  Using cached numpy-1.14.1-cp36-cp36m-macosx_10_6_intel.macosx_10_9_intel.macosx_10_9_x86_64.macosx_10_10_intel.macosx_10_10_x86_64.whl\n",
      "Collecting matplotlib\n",
      "  Using cached matplotlib-2.1.2-cp36-cp36m-macosx_10_6_intel.macosx_10_9_intel.macosx_10_9_x86_64.macosx_10_10_intel.macosx_10_10_x86_64.whl\n",
      "Requirement already satisfied: six>=1.10 in /Users/flavianhautbois/.virtualenvs/jupyter/lib/python3.6/site-packages (from matplotlib)\n",
      "Collecting pyparsing!=2.0.4,!=2.1.2,!=2.1.6,>=2.0.1 (from matplotlib)\n",
      "  Using cached pyparsing-2.2.0-py2.py3-none-any.whl\n",
      "Requirement already satisfied: python-dateutil>=2.1 in /Users/flavianhautbois/.virtualenvs/jupyter/lib/python3.6/site-packages (from matplotlib)\n",
      "Collecting pytz (from matplotlib)\n",
      "  Using cached pytz-2018.3-py2.py3-none-any.whl\n",
      "Collecting cycler>=0.10 (from matplotlib)\n",
      "  Using cached cycler-0.10.0-py2.py3-none-any.whl\n",
      "Installing collected packages: numpy, pyparsing, pytz, cycler, matplotlib\n",
      "Successfully installed cycler-0.10.0 matplotlib-2.1.2 numpy-1.14.1 pyparsing-2.2.0 pytz-2018.3\n"
     ]
    }
   ],
   "source": [
    "!pip install numpy matplotlib"
   ]
  },
  {
   "cell_type": "code",
   "execution_count": 10,
   "metadata": {},
   "outputs": [],
   "source": [
    "import json\n",
    "import matplotlib.pyplot as plt\n",
    "import numpy as np\n",
    "\n",
    "%matplotlib inline\n",
    "\n",
    "with open('breakout_training_eval_4250000/openaigym.episode_batch.0.6425.stats.json', 'r') as f:\n",
    "    results = json.load(f)"
   ]
  },
  {
   "cell_type": "code",
   "execution_count": 11,
   "metadata": {},
   "outputs": [],
   "source": [
    "rewards_ar = np.array(results['episode_rewards'])"
   ]
  },
  {
   "cell_type": "code",
   "execution_count": 12,
   "metadata": {},
   "outputs": [
    {
     "name": "stdout",
     "output_type": "stream",
     "text": [
      "3.0\n"
     ]
    }
   ],
   "source": [
    "print(rewards_ar.mean())"
   ]
  },
  {
   "cell_type": "code",
   "execution_count": 13,
   "metadata": {},
   "outputs": [
    {
     "data": {
      "text/plain": [
       "Text(0.5,1,'Distances during tests')"
      ]
     },
     "execution_count": 13,
     "metadata": {},
     "output_type": "execute_result"
    },
    {
     "data": {
      "image/png": "[encoded data removed]",
      "text/plain": [
       "<matplotlib.figure.Figure at 0x10f53a240>"
      ]
     },
     "metadata": {},
     "output_type": "display_data"
    }
   ],
   "source": [
    "plt.figure(figsize=(16, 9))\n",
    "result = plt.hist(rewards_ar, bins=20, color='c')\n",
    "\n",
    "plt.axvline(rewards_ar.mean(), color='b', linestyle='dashed', linewidth=2)\n",
    "plt.title('Distances during tests')\n"
   ]
  }
 ],
 "metadata": {
  "kernelspec": {
   "display_name": "Python 3",
   "language": "python",
   "name": "python3"
  },
  "language_info": {
   "codemirror_mode": {
    "name": "ipython",
    "version": 3
   },
   "file_extension": ".py",
   "mimetype": "text/x-python",
   "name": "python",
   "nbconvert_exporter": "python",
   "pygments_lexer": "ipython3",
   "version": "3.6.0"
  }
 },
 "nbformat": 4,
 "nbformat_minor": 2
}
